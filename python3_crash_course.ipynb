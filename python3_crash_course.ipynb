{
 "cells": [
  {
   "cell_type": "code",
   "execution_count": 8,
   "metadata": {},
   "outputs": [
    {
     "name": "stdout",
     "output_type": "stream",
     "text": [
      "Hello World\n",
      "16\n",
      "3.3333333333333335\n",
      "1\n",
      "27\n"
     ]
    }
   ],
   "source": [
    "print(\"Hello World\")\n",
    "print(5+11)\n",
    "print(10/3)\n",
    "print(10%3) #remainder\n",
    "print(3**3) #power\n"
   ]
  },
  {
   "cell_type": "code",
   "execution_count": 16,
   "metadata": {},
   "outputs": [
    {
     "name": "stdout",
     "output_type": "stream",
     "text": [
      "Python crash course\n"
     ]
    },
    {
     "data": {
      "text/plain": [
       "str"
      ]
     },
     "execution_count": 16,
     "metadata": {},
     "output_type": "execute_result"
    }
   ],
   "source": [
    "name = \"Python crash course\"\n",
    "print(name)\n",
    "type(name)"
   ]
  },
  {
   "cell_type": "code",
   "execution_count": 18,
   "metadata": {},
   "outputs": [
    {
     "name": "stdout",
     "output_type": "stream",
     "text": [
      "OK\n"
     ]
    }
   ],
   "source": [
    "if name==\"Python crash course\": #no curly braces just use colon\n",
    "    print(\"OK\") #tab means 4 spaces - indentation means this line belongs to if "
   ]
  },
  {
   "cell_type": "code",
   "execution_count": 23,
   "metadata": {},
   "outputs": [],
   "source": [
    "#use ipython --> pip install ipython --> it has colors in shell--> interactive python"
   ]
  },
  {
   "cell_type": "code",
   "execution_count": 24,
   "metadata": {},
   "outputs": [],
   "source": [
    "# data types --> strings lists dictionaries tuples sets booleans, integeers floats , ..."
   ]
  },
  {
   "cell_type": "code",
   "execution_count": 46,
   "metadata": {},
   "outputs": [
    {
     "name": "stdout",
     "output_type": "stream",
     "text": [
      "<class 'str'>\n"
     ]
    }
   ],
   "source": [
    "name = \"Soheil enia\"\n",
    "name = 'soheil enia'\n",
    "print(type(name))"
   ]
  },
  {
   "cell_type": "code",
   "execution_count": 26,
   "metadata": {},
   "outputs": [],
   "source": [
    "#84_name --> not a good var name"
   ]
  },
  {
   "cell_type": "code",
   "execution_count": 47,
   "metadata": {},
   "outputs": [
    {
     "name": "stdout",
     "output_type": "stream",
     "text": [
      "['Milk', 'Eggs', 'Ice cream']\n",
      "<class 'list'>\n"
     ]
    }
   ],
   "source": [
    "#list - you can store several different data types in there\n",
    "groceries = [\"Milk\" , \"Eggs\" , \"Ice cream\"]\n",
    "print(groceries)\n",
    "print(type(groceries))"
   ]
  },
  {
   "cell_type": "code",
   "execution_count": 37,
   "metadata": {},
   "outputs": [
    {
     "name": "stdout",
     "output_type": "stream",
     "text": [
      "{'key': 'value', 'name': 'soso', 'language': 'python'}\n",
      "soso\n"
     ]
    },
    {
     "data": {
      "text/plain": [
       "'python'"
      ]
     },
     "execution_count": 37,
     "metadata": {},
     "output_type": "execute_result"
    }
   ],
   "source": [
    "#dict : curly brace with key value pair -- dict is super fast - good way to store similar data\n",
    "person = {\n",
    "    'key': 'value',\n",
    "    'name':'soso',\n",
    "    'language': 'python'\n",
    "}\n",
    "print(person)\n",
    "print(person['name'])\n",
    "person['language']"
   ]
  },
  {
   "cell_type": "code",
   "execution_count": 38,
   "metadata": {},
   "outputs": [
    {
     "data": {
      "text/plain": [
       "tuple"
      ]
     },
     "execution_count": 38,
     "metadata": {},
     "output_type": "execute_result"
    }
   ],
   "source": [
    "#tuples: list that you can not change- no remove no add till remove the var or override it\n",
    "kids = ('nathan' , 'soso')\n",
    "type(kids)"
   ]
  },
  {
   "cell_type": "code",
   "execution_count": 40,
   "metadata": {},
   "outputs": [
    {
     "data": {
      "text/plain": [
       "{'Ice cream', 'pizza', 'tacos'}"
      ]
     },
     "execution_count": 40,
     "metadata": {},
     "output_type": "execute_result"
    }
   ],
   "source": [
    "#set : like a dict with no key value- set is unique - it does not remember order but list remebmber the order\n",
    "foods = {'pizza','tacos','Ice cream','pizza'} #only one pizza and order is not preserved\n",
    "foods "
   ]
  },
  {
   "cell_type": "code",
   "execution_count": 42,
   "metadata": {},
   "outputs": [
    {
     "name": "stdout",
     "output_type": "stream",
     "text": [
      "True\n"
     ]
    },
    {
     "data": {
      "text/plain": [
       "bool"
      ]
     },
     "execution_count": 42,
     "metadata": {},
     "output_type": "execute_result"
    }
   ],
   "source": [
    "is_adult=True\n",
    "print(is_adult)\n",
    "type(is_adult)"
   ]
  },
  {
   "cell_type": "code",
   "execution_count": 45,
   "metadata": {},
   "outputs": [
    {
     "name": "stdout",
     "output_type": "stream",
     "text": [
      "<class 'int'>\n",
      "<class 'float'>\n"
     ]
    }
   ],
   "source": [
    "a = 2\n",
    "b = 2.2\n",
    "print(type(a))\n",
    "print(type(b))"
   ]
  },
  {
   "cell_type": "code",
   "execution_count": 50,
   "metadata": {},
   "outputs": [
    {
     "name": "stdout",
     "output_type": "stream",
     "text": [
      "3\n",
      "crash\n"
     ]
    }
   ],
   "source": [
    "#indexing --  --count at 0\n",
    "course = \"python 3 crash course\"\n",
    "print(course[7])\n",
    "print(course[9:14])"
   ]
  },
  {
   "cell_type": "code",
   "execution_count": 56,
   "metadata": {},
   "outputs": [
    {
     "name": "stdout",
     "output_type": "stream",
     "text": [
      "pizza\n",
      "['chicken', 'Dr. Pepper Popsicles']\n",
      "['pizza']\n",
      "['chicken', 'Dr. Pepper Popsicles']\n"
     ]
    }
   ],
   "source": [
    "#index -- list or tuples\n",
    "foods = [\"pizza\",\"chicken\",\"Dr. Pepper Popsicles\"]\n",
    "print(foods[0])\n",
    "print(foods[1:])\n",
    "print(foods[:1]) #get everything up until item 1\n",
    "print(foods[1:3]) #number 3 hits the end of the list"
   ]
  },
  {
   "cell_type": "code",
   "execution_count": 58,
   "metadata": {},
   "outputs": [
    {
     "data": {
      "text/plain": [
       "'\\nmulti-line comment\\nmulti-line \\nmulti-line\\n'"
      ]
     },
     "execution_count": 58,
     "metadata": {},
     "output_type": "execute_result"
    }
   ],
   "source": [
    "#doc string\n",
    "\"\"\"\n",
    "multi-line comment\n",
    "multi-line \n",
    "multi-line\n",
    "\"\"\""
   ]
  },
  {
   "cell_type": "code",
   "execution_count": 60,
   "metadata": {},
   "outputs": [
    {
     "data": {
      "text/plain": [
       "'Python for everybody'"
      ]
     },
     "execution_count": 60,
     "metadata": {},
     "output_type": "execute_result"
    }
   ],
   "source": [
    "#python 3.5 and up .format strings - string formating use curly braces\n",
    "name = \"Python\"\n",
    "course = \"{} for everybody\".format(name)\n",
    "course"
   ]
  },
  {
   "cell_type": "code",
   "execution_count": 61,
   "metadata": {},
   "outputs": [
    {
     "name": "stdout",
     "output_type": "stream",
     "text": [
      "The crash course language is Python\n"
     ]
    }
   ],
   "source": [
    "#python 3.6 and up has also F STRINGS\n",
    "name = \"Python\"\n",
    "print(f\"The crash course language is {name}\")"
   ]
  },
  {
   "cell_type": "code",
   "execution_count": 65,
   "metadata": {},
   "outputs": [
    {
     "name": "stdout",
     "output_type": "stream",
     "text": [
      "Hello World\n",
      "Hello Python\n"
     ]
    }
   ],
   "source": [
    "#older versions of python\n",
    "name = \"Python\"\n",
    "print(\"Hello %s\" % \"World\") #%s means you are using a string with variable that comes after %\n",
    "print(\"Hello %s\"%name)"
   ]
  },
  {
   "cell_type": "code",
   "execution_count": 83,
   "metadata": {},
   "outputs": [],
   "source": [
    "#FILES with write permission w - create a python file\n",
    "#create a file by with command and open\n",
    "with open(\"try_me.py\",\"w\") as file_handler: #file handler is not the file it self but a handler to manage the file\n",
    "    file_handler.write(\"Print('hello world')\")\n",
    "    file_handler.close()"
   ]
  },
  {
   "cell_type": "code",
   "execution_count": 84,
   "metadata": {},
   "outputs": [
    {
     "name": "stdout",
     "output_type": "stream",
     "text": [
      "Print('hello world')\n"
     ]
    }
   ],
   "source": [
    "#now open an exisitng file with read persmision\n",
    "with open(\"try_me.py\" , \"r\") as fh:\n",
    "    content = fh.read()\n",
    "    fh.close() #always close the file handler its a good practice\n",
    "print(content)"
   ]
  },
  {
   "cell_type": "code",
   "execution_count": 85,
   "metadata": {},
   "outputs": [],
   "source": [
    "#append to file\n",
    "with open(\"try_me.py\",\"a\") as fh:\n",
    "    fh.write(\"\\nTesting line #2\") #\\n is an invisible char for a new line\n",
    "    fh.close()"
   ]
  },
  {
   "cell_type": "code",
   "execution_count": 92,
   "metadata": {},
   "outputs": [
    {
     "name": "stdout",
     "output_type": "stream",
     "text": [
      "You are using Python 3\n"
     ]
    }
   ],
   "source": [
    "#Comparisson operator: == >=  > < <= != is \n",
    "lang = \"Python 3\"\n",
    "if lang==\"Ruby\":\n",
    "    print(f\"You are using {lang}\")\n",
    "elif lang == \"Python 3\":\n",
    "    print(f\"You are using {lang}\")\n",
    "else:\n",
    "    print(\"nothing\")"
   ]
  },
  {
   "cell_type": "code",
   "execution_count": 95,
   "metadata": {},
   "outputs": [
    {
     "name": "stdout",
     "output_type": "stream",
     "text": [
      "Its nice being 20\n",
      "You are older than 10\n",
      "You are not exactly 30\n",
      "Is none\n"
     ]
    }
   ],
   "source": [
    "age=20\n",
    "if age==20:\n",
    "    print(\"Its nice being 20\")\n",
    "if age>=10:\n",
    "    print(\"You are older than 10\")\n",
    "    \n",
    "if age != 30: #is-not operator\n",
    "    print(\"You are not exactly 30\")\n",
    "\n",
    "#is operator:The == operator compares the value or equality of two objects, whereas the Python \"is\" operator checks whether two variables point to the same object in memory.    \n",
    "total = None\n",
    "type(total)\n",
    "if total is None: # is and == are different\n",
    "    print(\"Is none\")"
   ]
  },
  {
   "cell_type": "code",
   "execution_count": 101,
   "metadata": {},
   "outputs": [
    {
     "name": "stdout",
     "output_type": "stream",
     "text": [
      "item is Milk\n",
      "item is Eggs\n",
      "item is Ice cream\n"
     ]
    }
   ],
   "source": [
    "#For loops goes through iterable till it reach the end - iterable could be set,tuple list and string and etc\n",
    "groceries = [\"Milk\" , \"Eggs\" , \"Ice cream\"]\n",
    "for item in groceries:\n",
    "    print(f\"item is {item}\")"
   ]
  },
  {
   "cell_type": "code",
   "execution_count": 102,
   "metadata": {},
   "outputs": [
    {
     "name": "stdout",
     "output_type": "stream",
     "text": [
      "Python 3 crash course\n",
      "P\n",
      "y\n",
      "t\n",
      "h\n",
      "o\n",
      "n\n",
      " \n",
      "3\n",
      " \n",
      "c\n",
      "r\n",
      "a\n",
      "s\n",
      "h\n",
      " \n",
      "c\n",
      "o\n",
      "u\n",
      "r\n",
      "s\n",
      "e\n"
     ]
    }
   ],
   "source": [
    "name = \"        Python 3 crash course          \"\n",
    "name = name.strip() #strips the space from then end of either side of the string\n",
    "print(name)\n",
    "\n",
    "for letters in name:\n",
    "    print(letters)"
   ]
  },
  {
   "cell_type": "code",
   "execution_count": 104,
   "metadata": {},
   "outputs": [
    {
     "name": "stdout",
     "output_type": "stream",
     "text": [
      "Vowel is y\n",
      "Vowel is o\n",
      "Breaking on 3\n"
     ]
    }
   ],
   "source": [
    "#break and continue\n",
    "name = \"        Python 3 crash course          \"\n",
    "name = name.strip() #strips the space from then end of either side of the string\n",
    "for letter in name:\n",
    "    l = letter.lower()\n",
    "    if l in 'aeiouy':\n",
    "        print(f\"Vowel is {l}\")\n",
    "        continue #cycle thourgh another iteration so it does not continue through the rest of the code\n",
    "    if l ==\"3\":\n",
    "        print(\"Breaking on 3\")\n",
    "        break #Exits the for loop entirely"
   ]
  },
  {
   "cell_type": "code",
   "execution_count": 105,
   "metadata": {},
   "outputs": [
    {
     "name": "stdout",
     "output_type": "stream",
     "text": [
      "0\n",
      "1\n",
      "2\n",
      "3\n",
      "4\n",
      "5\n",
      "6\n",
      "7\n",
      "8\n",
      "9\n"
     ]
    }
   ],
   "source": [
    "#While loop\n",
    "num = 0\n",
    "while num < 10:\n",
    "    print(num)\n",
    "    num = num + 1\n"
   ]
  },
  {
   "cell_type": "code",
   "execution_count": 106,
   "metadata": {},
   "outputs": [
    {
     "ename": "KeyboardInterrupt",
     "evalue": "",
     "output_type": "error",
     "traceback": [
      "\u001b[0;31m---------------------------------------------------------------------------\u001b[0m",
      "\u001b[0;31mKeyboardInterrupt\u001b[0m                         Traceback (most recent call last)",
      "\u001b[0;32m<ipython-input-106-0dd8422fe370>\u001b[0m in \u001b[0;36m<module>\u001b[0;34m\u001b[0m\n\u001b[1;32m      1\u001b[0m \u001b[0;31m#hit ctrl+c\u001b[0m\u001b[0;34m\u001b[0m\u001b[0;34m\u001b[0m\u001b[0;34m\u001b[0m\u001b[0m\n\u001b[1;32m      2\u001b[0m \u001b[0;32mwhile\u001b[0m \u001b[0;32mTrue\u001b[0m\u001b[0;34m:\u001b[0m\u001b[0;34m\u001b[0m\u001b[0;34m\u001b[0m\u001b[0m\n\u001b[0;32m----> 3\u001b[0;31m     \u001b[0;32mpass\u001b[0m\u001b[0;34m\u001b[0m\u001b[0;34m\u001b[0m\u001b[0m\n\u001b[0m",
      "\u001b[0;31mKeyboardInterrupt\u001b[0m: "
     ]
    }
   ],
   "source": [
    "#hit ctrl+c or stop in jupter!\n",
    "while True:\n",
    "    pass"
   ]
  },
  {
   "cell_type": "code",
   "execution_count": 114,
   "metadata": {},
   "outputs": [
    {
     "name": "stdout",
     "output_type": "stream",
     "text": [
      "[1, 2, 3, 4, 7, 8, 9, 10]\n",
      "[10, 20, 30, 40, 70, 80, 90, 100]\n",
      "[20, 40, 80, 100]\n"
     ]
    }
   ],
   "source": [
    "#List comprehensions - generate a list in a single line of code\n",
    "nums = [1,2,3,4,7,8,9,10]\n",
    "copy_nums = [num for num in nums] #num var is just for producing answers \n",
    "print(copy_nums)\n",
    "times_ten = [num*10 for num in nums]\n",
    "print(times_ten)\n",
    "times_ten_for_even_numbers = [num*10 for num in nums if num%2==0]\n",
    "print(times_ten_for_even_numbers)"
   ]
  },
  {
   "cell_type": "code",
   "execution_count": 118,
   "metadata": {},
   "outputs": [
    {
     "data": {
      "text/plain": [
       "'A thing'"
      ]
     },
     "execution_count": 118,
     "metadata": {},
     "output_type": "execute_result"
    }
   ],
   "source": [
    "#Functions : you can also return function from a funtion in python\n",
    "def name():\n",
    "    return \"A thing\"\n",
    "\n",
    "#put the return into my_thing var\n",
    "my_thing = name()\n",
    "my_thing"
   ]
  },
  {
   "cell_type": "code",
   "execution_count": 123,
   "metadata": {},
   "outputs": [
    {
     "name": "stdout",
     "output_type": "stream",
     "text": [
      "soheil, Hello to you good sir!\n"
     ]
    },
    {
     "data": {
      "text/plain": [
       "NoneType"
      ]
     },
     "execution_count": 123,
     "metadata": {},
     "output_type": "execute_result"
    }
   ],
   "source": [
    "def greeting(name):\n",
    "    print(f\"{name}, Hello to you good sir!\")\n",
    "    \n",
    "greet = greeting(\"soheil\") #no return so greet has NonType\n",
    "type(greet)"
   ]
  },
  {
   "cell_type": "code",
   "execution_count": 128,
   "metadata": {},
   "outputs": [
    {
     "name": "stdout",
     "output_type": "stream",
     "text": [
      "Henry,Hello to you\n"
     ]
    },
    {
     "data": {
      "text/plain": [
       "str"
      ]
     },
     "execution_count": 128,
     "metadata": {},
     "output_type": "execute_result"
    }
   ],
   "source": [
    "#Default values argument\n",
    "#*args **kwargs\n",
    "#name--> regular arguments\n",
    "#greeting --->keyword argumnets\n",
    "def greeting(name , greeting=\"Hello\"):\n",
    "    return f\"{name},{greeting} to you\"\n",
    "\n",
    "x = greeting(\"Henry\")\n",
    "print(x)\n",
    "type(x)"
   ]
  },
  {
   "cell_type": "code",
   "execution_count": 130,
   "metadata": {},
   "outputs": [
    {
     "name": "stdout",
     "output_type": "stream",
     "text": [
      "Tim\n",
      "Michael\n"
     ]
    }
   ],
   "source": [
    "#Scope\n",
    "#hello func is gonna look inside of it self and if the name var doesn't exist there then its gonna search outside \n",
    "name=\"Tim\"\n",
    "def hello():\n",
    "    print(name)\n",
    "hello()\n",
    "\n",
    "def hello(name=\"Michael\"):\n",
    "    print(name)\n",
    "\n",
    "hello()"
   ]
  },
  {
   "cell_type": "code",
   "execution_count": 133,
   "metadata": {},
   "outputs": [
    {
     "name": "stdout",
     "output_type": "stream",
     "text": [
      "<__main__.Person object at 0x7fea180667b8>\n",
      "<class '__main__.Person'>\n"
     ]
    }
   ],
   "source": [
    "#OOP: in python everything is a object and we can create our own object\n",
    "#\"word\".format() --> like for example string is an object (class) and .fromat is a method\n",
    "\n",
    "class Person:\n",
    "    pass\n",
    "\n",
    "soheil = Person()\n",
    "print(soheil) #shows where its stores inside of our memory\n",
    "print(type(soheil))"
   ]
  },
  {
   "cell_type": "code",
   "execution_count": 134,
   "metadata": {},
   "outputs": [
    {
     "data": {
      "text/plain": [
       "'soso'"
      ]
     },
     "execution_count": 134,
     "metadata": {},
     "output_type": "execute_result"
    }
   ],
   "source": [
    "class Person:\n",
    "    name=\"soso\"\n",
    "\n",
    "soheil = Person()\n",
    "soheil.name"
   ]
  },
  {
   "cell_type": "code",
   "execution_count": 135,
   "metadata": {},
   "outputs": [
    {
     "name": "stdout",
     "output_type": "stream",
     "text": [
      "I NEED TACOS\n"
     ]
    }
   ],
   "source": [
    "class Person:\n",
    "    \n",
    "    def speak(self): #self attaches it self to the class to access to other properties and methods of the class\n",
    "        print(\"I NEED TACOS\")\n",
    "\n",
    "hungry_person = Person()\n",
    "hungry_person.speak()"
   ]
  },
  {
   "cell_type": "code",
   "execution_count": 139,
   "metadata": {},
   "outputs": [
    {
     "name": "stdout",
     "output_type": "stream",
     "text": [
      "Feed me more Tacos\n",
      "The name of this person is Soheil\n",
      "Soheil\n"
     ]
    },
    {
     "data": {
      "text/plain": [
       "<__main__.Person at 0x7fea1848a358>"
      ]
     },
     "execution_count": 139,
     "metadata": {},
     "output_type": "execute_result"
    }
   ],
   "source": [
    "#magic methods\n",
    "class Person:\n",
    "    \n",
    "    def __init__(self, name , age , food):\n",
    "        self.name = name\n",
    "        self.age = age\n",
    "        self.food = food\n",
    "    \n",
    "    def speak(self):\n",
    "        print(f\"Feed me more {self.food}s\")\n",
    "    \n",
    "    def get_name(self):\n",
    "        print(\"The name of this person is\" , self.name)\n",
    "        \n",
    "    def __str__(self): #This is for printing clearly\n",
    "        return self.name\n",
    "\n",
    "soheil = Person('Soheil',30 , \"Taco\")\n",
    "soheil.speak()\n",
    "soheil.get_name()\n",
    "\n",
    "print(soheil) #it uses __str__ for printing\n",
    "soheil #note the difference between above line and this line"
   ]
  },
  {
   "cell_type": "code",
   "execution_count": 140,
   "metadata": {},
   "outputs": [],
   "source": [
    "# Packages -> pip install package_name ---> get the package name from pypi.org\n",
    "#pip install Django\n",
    "#pip show Django \n",
    "#pip uninstall Django\n",
    "#pip freeze --> shows all the packages"
   ]
  },
  {
   "cell_type": "code",
   "execution_count": 142,
   "metadata": {},
   "outputs": [
    {
     "name": "stdout",
     "output_type": "stream",
     "text": [
      "division by zero\n",
      "<class 'ZeroDivisionError'>\n",
      "THIS STILL RUNS\n"
     ]
    }
   ],
   "source": [
    "#Try Except --> accept the exception to handle that error\n",
    "#User are dangerous! so use try except\n",
    "#Imagine I ask you for two numbers for division and you give me 1 and 0\n",
    "try:\n",
    "    1/0\n",
    "except Exception as e:\n",
    "    print(e)\n",
    "    print(type(e))\n",
    "print(\"THIS STILL RUNS\")"
   ]
  },
  {
   "cell_type": "code",
   "execution_count": 146,
   "metadata": {},
   "outputs": [
    {
     "name": "stdout",
     "output_type": "stream",
     "text": [
      "Can not do that\n"
     ]
    }
   ],
   "source": [
    "try:\n",
    "    10/0 #program dies in this line and goes to exception\n",
    "    print(\"Show me\")\n",
    "except ZeroDivisionError: #except specific error\n",
    "    print(\"Can not do that\")"
   ]
  },
  {
   "cell_type": "code",
   "execution_count": null,
   "metadata": {},
   "outputs": [],
   "source": []
  }
 ],
 "metadata": {
  "kernelspec": {
   "display_name": "Python 3 (ipykernel)",
   "language": "python",
   "name": "python3"
  },
  "language_info": {
   "codemirror_mode": {
    "name": "ipython",
    "version": 3
   },
   "file_extension": ".py",
   "mimetype": "text/x-python",
   "name": "python",
   "nbconvert_exporter": "python",
   "pygments_lexer": "ipython3",
   "version": "3.8.10"
  }
 },
 "nbformat": 4,
 "nbformat_minor": 2
}
